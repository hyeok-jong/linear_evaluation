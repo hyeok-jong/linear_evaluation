{
 "cells": [
  {
   "cell_type": "code",
   "execution_count": 1,
   "id": "e6be9da8-1a01-4653-a3c1-6c00b7ea7a0c",
   "metadata": {},
   "outputs": [
    {
     "name": "stdout",
     "output_type": "stream",
     "text": [
      "/home/intern_lhj/linear_evaluation\n"
     ]
    }
   ],
   "source": [
    "import torch\n",
    "import os\n",
    "os.chdir('../')\n",
    "print(os.getcwd())"
   ]
  },
  {
   "cell_type": "code",
   "execution_count": 6,
   "id": "eff881af-4ac4-469d-99b1-af504d407ccb",
   "metadata": {},
   "outputs": [
    {
     "data": {
      "text/plain": [
       "tensor([ 0.0738,  0.0680,  0.0067,  ..., -0.0111,  0.1380,  0.0713],\n",
       "       device='cuda:0')"
      ]
     },
     "execution_count": 6,
     "metadata": {},
     "output_type": "execute_result"
    }
   ],
   "source": [
    "list(torch.load('./trained_models/our_genscl.pth.tar')['state_dict'].values())[0][0]"
   ]
  },
  {
   "cell_type": "code",
   "execution_count": 5,
   "id": "fca33ee3-bd63-47bf-a4b0-305a66d7ab4a",
   "metadata": {},
   "outputs": [
    {
     "data": {
      "text/plain": [
       "tensor([-0.0846, -0.0570, -0.0037,  ...,  0.0464, -0.0245,  0.0538],\n",
       "       device='cuda:0')"
      ]
     },
     "execution_count": 5,
     "metadata": {},
     "output_type": "execute_result"
    }
   ],
   "source": [
    "list(torch.load('./trained_models/our_supcon.pth.tar')['state_dict'].values())[0][0]"
   ]
  },
  {
   "cell_type": "code",
   "execution_count": 7,
   "id": "58956a56-4d68-43ca-b553-71b72e2704e1",
   "metadata": {},
   "outputs": [
    {
     "data": {
      "text/plain": [
       "tensor([ 0.0738,  0.0680,  0.0067,  ..., -0.0111,  0.1380,  0.0713],\n",
       "       device='cuda:0')"
      ]
     },
     "execution_count": 7,
     "metadata": {},
     "output_type": "execute_result"
    }
   ],
   "source": [
    "# GenSCL\n",
    "list(torch.load('./trained_models/checkpoint_last.pth.tar')['state_dict'].values())[0][0]"
   ]
  },
  {
   "cell_type": "code",
   "execution_count": 14,
   "id": "4aafe483-48fa-4474-887a-efa783c5c5bb",
   "metadata": {},
   "outputs": [
    {
     "data": {
      "text/plain": [
       "{'module.queue_teacher_label'}"
      ]
     },
     "execution_count": 14,
     "metadata": {},
     "output_type": "execute_result"
    }
   ],
   "source": [
    "set(torch.load('./trained_models/our_supcon.pth.tar')['state_dict'].keys()) \\\n",
    ".difference(set(torch.load('./trained_models/our_genscl.pth.tar')['state_dict'].keys())), \n",
    "set(torch.load('./trained_models/our_genscl.pth.tar')['state_dict'].keys()) \\\n",
    ".difference(set(torch.load('./trained_models/our_supcon.pth.tar')['state_dict'].keys()))"
   ]
  },
  {
   "cell_type": "code",
   "execution_count": 26,
   "id": "19db4b91-4394-48e9-b598-3f010a3c22bc",
   "metadata": {},
   "outputs": [
    {
     "name": "stdout",
     "output_type": "stream",
     "text": [
      "647\n",
      "318\n"
     ]
    }
   ],
   "source": [
    "loaded_state_dict = torch.load('./trained_models/our_supcon.pth.tar')['state_dict']\n",
    "print(len(loaded_state_dict))\n",
    "new_state_dict = dict()\n",
    "for name, params in loaded_state_dict.items():\n",
    "    if name.startswith(\"module.encoder_q\") and not name.startswith(\"module.encoder_q.fc\"):\n",
    "        name = name.replace('module.encoder_q.', '')\n",
    "        new_state_dict[name] = params\n",
    "\n",
    "print(len(new_state_dict))\n",
    "\n"
   ]
  },
  {
   "cell_type": "code",
   "execution_count": 29,
   "id": "ffc53dcc-ea0b-4810-a85b-22488a476e1c",
   "metadata": {},
   "outputs": [],
   "source": [
    "from resnet_big import resnet50\n",
    "import torchvision\n",
    "\n",
    "model = resnet50()\n",
    "model = torchvision.models.resnet50(weights = None)\n",
    "model.fc = torch.nn.Module()"
   ]
  },
  {
   "cell_type": "code",
   "execution_count": 30,
   "id": "b8d4b2f4-39d7-40e9-a6d3-bc1051355cc2",
   "metadata": {},
   "outputs": [
    {
     "data": {
      "text/plain": [
       "<All keys matched successfully>"
      ]
     },
     "execution_count": 30,
     "metadata": {},
     "output_type": "execute_result"
    }
   ],
   "source": [
    "model.load_state_dict(new_state_dict, strict = True)"
   ]
  },
  {
   "cell_type": "code",
   "execution_count": null,
   "id": "9c09128d-c8a1-4e14-9044-10e46301071e",
   "metadata": {},
   "outputs": [],
   "source": []
  }
 ],
 "metadata": {
  "kernelspec": {
   "display_name": "Python 3 (ipykernel)",
   "language": "python",
   "name": "python3"
  },
  "language_info": {
   "codemirror_mode": {
    "name": "ipython",
    "version": 3
   },
   "file_extension": ".py",
   "mimetype": "text/x-python",
   "name": "python",
   "nbconvert_exporter": "python",
   "pygments_lexer": "ipython3",
   "version": "3.8.13"
  }
 },
 "nbformat": 4,
 "nbformat_minor": 5
}
