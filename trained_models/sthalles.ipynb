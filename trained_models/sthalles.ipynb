{
 "cells": [
  {
   "cell_type": "code",
   "execution_count": 1,
   "id": "7e03bd95-f44a-406a-8d80-4f1339a25182",
   "metadata": {},
   "outputs": [],
   "source": [
    "# https://github.com/sthalles/SimCLR"
   ]
  },
  {
   "cell_type": "code",
   "execution_count": 2,
   "id": "0c3d74e0-9793-466d-b71e-b321834d33d7",
   "metadata": {},
   "outputs": [
    {
     "name": "stdout",
     "output_type": "stream",
     "text": [
      "122\n"
     ]
    }
   ],
   "source": [
    "import torchvision\n",
    "import torch\n",
    "model = torchvision.models.resnet18(weights = None)\n",
    "cnt = 0\n",
    "for name, param in model.state_dict().items():\n",
    "    #print(name)\n",
    "    cnt += 1\n",
    "print(cnt)"
   ]
  },
  {
   "cell_type": "code",
   "execution_count": 3,
   "id": "7cd1a452-f1f0-4ce6-ada9-c58c03f1090d",
   "metadata": {},
   "outputs": [],
   "source": [
    "class Identity(torch.nn.Module):\n",
    "    def __init__(self):\n",
    "        super(Identity, self).__init__()\n",
    "    def forward(self, x):\n",
    "        return x"
   ]
  },
  {
   "cell_type": "code",
   "execution_count": 4,
   "id": "ee9450b9-ec71-4fa4-a19c-f7b55c61daa7",
   "metadata": {},
   "outputs": [
    {
     "data": {
      "text/plain": [
       "Linear(in_features=512, out_features=1000, bias=True)"
      ]
     },
     "execution_count": 4,
     "metadata": {},
     "output_type": "execute_result"
    }
   ],
   "source": [
    "model.fc"
   ]
  },
  {
   "cell_type": "code",
   "execution_count": 5,
   "id": "98c53b84-06d9-45ad-b7c4-1801fc4c8b86",
   "metadata": {},
   "outputs": [],
   "source": [
    "model.fc = Identity()"
   ]
  },
  {
   "cell_type": "code",
   "execution_count": 6,
   "id": "eb2353fb-e350-4f84-a78b-33b0543b9b39",
   "metadata": {},
   "outputs": [
    {
     "data": {
      "text/plain": [
       "Identity()"
      ]
     },
     "execution_count": 6,
     "metadata": {},
     "output_type": "execute_result"
    }
   ],
   "source": [
    "model.fc"
   ]
  },
  {
   "cell_type": "code",
   "execution_count": 7,
   "id": "016cff23-bf8f-408f-ac1b-76dbb0b73d2f",
   "metadata": {},
   "outputs": [
    {
     "name": "stdout",
     "output_type": "stream",
     "text": [
      "120\n"
     ]
    }
   ],
   "source": [
    "cnt = 0\n",
    "for name, param in model.state_dict().items():\n",
    "    #print(name)\n",
    "    cnt += 1\n",
    "print(cnt)"
   ]
  },
  {
   "cell_type": "code",
   "execution_count": null,
   "id": "7d2c665b-edce-493c-a6ee-2e6a93c82c9d",
   "metadata": {},
   "outputs": [],
   "source": []
  },
  {
   "cell_type": "code",
   "execution_count": 8,
   "id": "93c5f6fe-ba1e-4cac-ba00-18fa7cd5d6a8",
   "metadata": {},
   "outputs": [],
   "source": [
    "loaded = torch.load('./checkpoint_0100.pth.tar', map_location = 'cpu')\n",
    "\n",
    "loaded_state_dict = loaded['state_dict']"
   ]
  },
  {
   "cell_type": "code",
   "execution_count": 9,
   "id": "b50defb4-62b9-4c0c-bd0f-f3ba66d95731",
   "metadata": {},
   "outputs": [
    {
     "name": "stdout",
     "output_type": "stream",
     "text": [
      "124\n"
     ]
    }
   ],
   "source": [
    "cnt = 0\n",
    "for name, param in loaded['state_dict'].items():\n",
    "    #print(name)\n",
    "    cnt += 1\n",
    "print(cnt)"
   ]
  },
  {
   "cell_type": "code",
   "execution_count": 10,
   "id": "3afd3588-7a4a-4389-854d-1f0dfc99cc46",
   "metadata": {},
   "outputs": [
    {
     "name": "stdout",
     "output_type": "stream",
     "text": [
      "120\n"
     ]
    }
   ],
   "source": [
    "new_state_dict = dict()\n",
    "for name, params in loaded_state_dict.items():\n",
    "    if not name.startswith('backbone.fc'):\n",
    "        name = name.replace('backbone.', '')\n",
    "        new_state_dict[name] = params\n",
    "\n",
    "print(len(new_state_dict))\n"
   ]
  },
  {
   "cell_type": "code",
   "execution_count": 13,
   "id": "94ef4e49-5af6-4263-8d97-0f154d73f9b3",
   "metadata": {},
   "outputs": [
    {
     "data": {
      "text/plain": [
       "<All keys matched successfully>"
      ]
     },
     "execution_count": 13,
     "metadata": {},
     "output_type": "execute_result"
    }
   ],
   "source": [
    "model.load_state_dict(new_state_dict, strict = True)"
   ]
  },
  {
   "cell_type": "code",
   "execution_count": null,
   "id": "054094c1-6b26-4d00-8dc6-2c210f26e4d8",
   "metadata": {},
   "outputs": [],
   "source": []
  }
 ],
 "metadata": {
  "kernelspec": {
   "display_name": "Python 3 (ipykernel)",
   "language": "python",
   "name": "python3"
  },
  "language_info": {
   "codemirror_mode": {
    "name": "ipython",
    "version": 3
   },
   "file_extension": ".py",
   "mimetype": "text/x-python",
   "name": "python",
   "nbconvert_exporter": "python",
   "pygments_lexer": "ipython3",
   "version": "3.8.13"
  }
 },
 "nbformat": 4,
 "nbformat_minor": 5
}
