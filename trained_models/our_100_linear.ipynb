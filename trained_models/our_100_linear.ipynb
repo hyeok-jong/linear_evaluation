{
 "cells": [
  {
   "cell_type": "code",
   "execution_count": 1,
   "id": "7d11cd07-cda0-4b32-914c-5b94c537c839",
   "metadata": {},
   "outputs": [
    {
     "name": "stdout",
     "output_type": "stream",
     "text": [
      "/home/intern_lhj/linear_evaluation\n"
     ]
    }
   ],
   "source": [
    "import os\n",
    "os.chdir('../')\n",
    "print(os.getcwd())\n",
    "import torch\n",
    "import torchvision\n"
   ]
  },
  {
   "cell_type": "code",
   "execution_count": 2,
   "id": "28660768-ae5f-4fa0-bacc-f7c601d41ef5",
   "metadata": {},
   "outputs": [],
   "source": [
    "state_dict = torch.load('./trained_models/our_100.pth')['state_dict']"
   ]
  },
  {
   "cell_type": "code",
   "execution_count": 3,
   "id": "0111574b-d877-4b08-87ca-4d8c8a6420fa",
   "metadata": {},
   "outputs": [
    {
     "name": "stdout",
     "output_type": "stream",
     "text": [
      "318\n"
     ]
    }
   ],
   "source": [
    "new_state_dict = dict()\n",
    "for name, params in state_dict.items():\n",
    "    if not name.startswith('head'):\n",
    "        name = name.replace('encoder.', '')\n",
    "        new_state_dict[name] = params\n",
    "\n",
    "print(len(new_state_dict))\n"
   ]
  },
  {
   "cell_type": "code",
   "execution_count": 7,
   "id": "831fd0b6-0ef3-45aa-991f-bc409603aa8b",
   "metadata": {},
   "outputs": [],
   "source": [
    "from resnet_big import resnet50\n",
    "\n",
    "# model = torchvision.models.resnet50(weights = None)\n",
    "model = resnet50()\n",
    "model.fc = torch.nn.Module()"
   ]
  },
  {
   "cell_type": "code",
   "execution_count": 8,
   "id": "8c332833-dce6-4868-8912-e6246f832301",
   "metadata": {},
   "outputs": [
    {
     "data": {
      "text/plain": [
       "318"
      ]
     },
     "execution_count": 8,
     "metadata": {},
     "output_type": "execute_result"
    }
   ],
   "source": [
    "len(model.state_dict().items())\n"
   ]
  },
  {
   "cell_type": "code",
   "execution_count": 9,
   "id": "c6e90bf3-efd7-4374-922b-3a662c5642f5",
   "metadata": {},
   "outputs": [
    {
     "data": {
      "text/plain": [
       "<All keys matched successfully>"
      ]
     },
     "execution_count": 9,
     "metadata": {},
     "output_type": "execute_result"
    }
   ],
   "source": [
    "model.load_state_dict(new_state_dict)"
   ]
  },
  {
   "cell_type": "code",
   "execution_count": null,
   "id": "8039fa7b-6fa7-4dfb-afa9-d6050eba53f0",
   "metadata": {},
   "outputs": [],
   "source": []
  }
 ],
 "metadata": {
  "kernelspec": {
   "display_name": "Python 3 (ipykernel)",
   "language": "python",
   "name": "python3"
  },
  "language_info": {
   "codemirror_mode": {
    "name": "ipython",
    "version": 3
   },
   "file_extension": ".py",
   "mimetype": "text/x-python",
   "name": "python",
   "nbconvert_exporter": "python",
   "pygments_lexer": "ipython3",
   "version": "3.8.13"
  }
 },
 "nbformat": 4,
 "nbformat_minor": 5
}
